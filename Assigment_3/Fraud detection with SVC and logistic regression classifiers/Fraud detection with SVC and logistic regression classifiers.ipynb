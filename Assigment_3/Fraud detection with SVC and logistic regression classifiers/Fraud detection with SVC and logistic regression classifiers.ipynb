{
 "cells": [
  {
   "cell_type": "code",
   "execution_count": 2,
   "metadata": {
    "deletable": false,
    "editable": false,
    "nbgrader": {
     "cell_type": "code",
     "checksum": "78ebaa94d2ed34f270a36f999ec638cd",
     "grade": false,
     "grade_id": "cell-80e9d85c13c645fd",
     "locked": true,
     "schema_version": 3,
     "solution": false,
     "task": false
    }
   },
   "outputs": [],
   "source": [
    "import numpy as np\n",
    "import pandas as pd"
   ]
  },
  {
   "cell_type": "markdown",
   "metadata": {
    "deletable": false,
    "nbgrader": {
     "cell_type": "markdown",
     "checksum": "195500c0fd1abb287b55c1fbf5aab703",
     "grade": false,
     "grade_id": "cell-e0c1d5d545368fe0",
     "locked": true,
     "schema_version": 3,
     "solution": false,
     "task": false
    },
    "tags": []
   },
   "source": [
    "### Fraud detection with SVC and logistic regression classifiers"
   ]
  },
  {
   "cell_type": "code",
   "execution_count": 9,
   "metadata": {
    "deletable": false,
    "nbgrader": {
     "cell_type": "code",
     "checksum": "92fc1620092b7a44f520d3bb2f2a81bf",
     "grade": false,
     "grade_id": "cell-9c71acc0882f1c07",
     "locked": false,
     "schema_version": 3,
     "solution": true,
     "task": false
    }
   },
   "outputs": [
    {
     "name": "stdout",
     "output_type": "stream",
     "text": [
      "percentage of fraud labeled data points: 0.016\n"
     ]
    },
    {
     "data": {
      "text/plain": [
       "0.016410823768035772"
      ]
     },
     "execution_count": 9,
     "metadata": {},
     "output_type": "execute_result"
    }
   ],
   "source": [
    "# checks how is the distribution in data set of fraud/not fraud labeled data points\n",
    "def fraud_percentage():\n",
    "    from sklearn.model_selection import train_test_split\n",
    "    from sklearn.model_selection import train_test_split\n",
    "    \n",
    "    df = pd.read_csv('assets/fraud_data.csv')\n",
    "    precentage_fraud = df['Class'].value_counts(normalize=True)[1]\n",
    "    \n",
    "    X = df.iloc[:,:-1]\n",
    "    y = df.iloc[:,-1]\n",
    "    \n",
    "    print('percentage of fraud labeled data points: {0:.3f}'.format(precentage_fraud))\n",
    "    \n",
    "    \n",
    "    \n",
    "    \n",
    "    return precentage_fraud\n",
    "\n",
    "fraud_percentage()"
   ]
  },
  {
   "cell_type": "code",
   "execution_count": 4,
   "metadata": {
    "deletable": false,
    "nbgrader": {
     "cell_type": "code",
     "checksum": "0ba0341d27562125bb56f3ec5277a02d",
     "grade": false,
     "grade_id": "cell-62cf0dc0b1f98f9e",
     "locked": true,
     "schema_version": 3,
     "solution": false,
     "task": false
    },
    "tags": []
   },
   "outputs": [],
   "source": [
    "# splitting dtat set in traing and test sets\n",
    "from sklearn.model_selection import train_test_split\n",
    "\n",
    "df = pd.read_csv('assets/fraud_data.csv')\n",
    "\n",
    "X = df.iloc[:,:-1]\n",
    "y = df.iloc[:,-1]\n",
    "\n",
    "X_train, X_test, y_train, y_test = train_test_split(X, y, random_state=0)"
   ]
  },
  {
   "cell_type": "markdown",
   "metadata": {
    "deletable": false,
    "nbgrader": {
     "cell_type": "markdown",
     "checksum": "b421718a1f992d43b920e29cf286c745",
     "grade": false,
     "grade_id": "cell-cc63171c6f3c6e9d",
     "locked": true,
     "schema_version": 3,
     "solution": false,
     "task": false
    },
    "tags": []
   },
   "source": [
    "### Training dummy classifier and finding metrics to contrast with SVC trained classifier\n"
   ]
  },
  {
   "cell_type": "code",
   "execution_count": 6,
   "metadata": {
    "deletable": false,
    "nbgrader": {
     "cell_type": "code",
     "checksum": "46556467b5cb10fd1939438030fe2ef9",
     "grade": false,
     "grade_id": "cell-ae13208aa0cea621",
     "locked": false,
     "schema_version": 3,
     "solution": true,
     "task": false
    }
   },
   "outputs": [
    {
     "name": "stdout",
     "output_type": "stream",
     "text": [
      "acc. score of dummy classifer: 0.99\n",
      "recall score of dummy classifer: 0.00\n"
     ]
    },
    {
     "data": {
      "text/plain": [
       "(0.9852507374631269, 0.0)"
      ]
     },
     "execution_count": 6,
     "metadata": {},
     "output_type": "execute_result"
    }
   ],
   "source": [
    "def dummy_classifier():\n",
    "    from sklearn.dummy import DummyClassifier\n",
    "    from sklearn.metrics import recall_score\n",
    "    from sklearn.metrics import accuracy_score\n",
    "\n",
    "    dummy_majority = DummyClassifier(strategy = 'most_frequent').fit(X_train, y_train)\n",
    "    y_dummy_predictions = dummy_majority.predict(X_test)\n",
    "    acc_score = accuracy_score(y_test, y_dummy_predictions)\n",
    "    recall_score = recall_score(y_test, y_dummy_predictions)\n",
    "    \n",
    "    print('acc. score of dummy classifer: {0:.2f}'.format(acc_score))\n",
    "    print('recall score of dummy classifer: {0:.2f}'.format(recall_score))\n",
    "    return (acc_score, recall_score)\n",
    "\n",
    "dummy_classifier()"
   ]
  },
  {
   "cell_type": "markdown",
   "metadata": {
    "deletable": false,
    "nbgrader": {
     "cell_type": "markdown",
     "checksum": "2b34a3918d9036b813e0b0b5bf714d7f",
     "grade": false,
     "grade_id": "cell-3712ad9c5674649b",
     "locked": true,
     "schema_version": 3,
     "solution": false,
     "task": false
    },
    "tags": []
   },
   "source": [
    "### Training SVC classifier with standard parameters and finding out metrics\n"
   ]
  },
  {
   "cell_type": "code",
   "execution_count": 10,
   "metadata": {
    "deletable": false,
    "nbgrader": {
     "cell_type": "code",
     "checksum": "623aab4a8492d59dbfa4fd3a1d21d660",
     "grade": false,
     "grade_id": "cell-c406ff1cd0d9b9cf",
     "locked": false,
     "schema_version": 3,
     "solution": true,
     "task": false
    }
   },
   "outputs": [
    {
     "name": "stdout",
     "output_type": "stream",
     "text": [
      "acc. score of std svc classifer: 0.99\n",
      "recall score of std svc classifer: 0.35\n",
      "precision score of std svc classifer: 0.93\n"
     ]
    },
    {
     "data": {
      "text/plain": [
       "(0.9900442477876106, 0.35, 0.9333333333333333)"
      ]
     },
     "execution_count": 10,
     "metadata": {},
     "output_type": "execute_result"
    }
   ],
   "source": [
    "def svc_standard_parameters():\n",
    "    from sklearn.metrics import recall_score, precision_score\n",
    "    from sklearn.svm import SVC\n",
    "    from sklearn.metrics import accuracy_score\n",
    "\n",
    "    svm = SVC().fit(X_train, y_train)\n",
    "    y_svm_predictions = svm.predict(X_test)\n",
    "    acc_score = accuracy_score(y_test, y_svm_predictions)\n",
    "    recall_score = recall_score(y_test, y_svm_predictions)\n",
    "    precision_score = precision_score(y_test, y_svm_predictions)\n",
    "    \n",
    "    print('acc. score of std svc classifer: {0:.2f}'.format(acc_score))\n",
    "    print('recall score of std svc classifer: {0:.2f}'.format(recall_score))\n",
    "    print('precision score of std svc classifer: {0:.2f}'.format(precision_score))\n",
    "    \n",
    "    return (acc_score, recall_score, precision_score)\n",
    "    \n",
    "svc_standard_parameters()"
   ]
  },
  {
   "cell_type": "markdown",
   "metadata": {
    "deletable": false,
    "nbgrader": {
     "cell_type": "markdown",
     "checksum": "f192747899a034d58dabbce7ee21892f",
     "grade": false,
     "grade_id": "cell-a90b8ca88528b575",
     "locked": true,
     "schema_version": 3,
     "solution": false,
     "task": false
    },
    "tags": []
   },
   "source": [
    "### Training parametrized SVC classifier with standard with  `{'C': 1e9, 'gamma': 1e-07}`and finding out metrics in confusion matrix\n"
   ]
  },
  {
   "cell_type": "code",
   "execution_count": 12,
   "metadata": {
    "deletable": false,
    "nbgrader": {
     "cell_type": "code",
     "checksum": "61a4ced01e471811f43ba8d9bf26a574",
     "grade": false,
     "grade_id": "cell-702dc0a87f16c21c",
     "locked": false,
     "schema_version": 3,
     "solution": true,
     "task": false
    }
   },
   "outputs": [
    {
     "name": "stdout",
     "output_type": "stream",
     "text": [
      "[[5320   24]\n",
      " [  14   66]]\n"
     ]
    },
    {
     "data": {
      "text/plain": [
       "array([[5320,   24],\n",
       "       [  14,   66]], dtype=int64)"
      ]
     },
     "execution_count": 12,
     "metadata": {},
     "output_type": "execute_result"
    }
   ],
   "source": [
    "def parametrized_svc_classifier():\n",
    "    from sklearn.metrics import confusion_matrix\n",
    "    from sklearn.svm import SVC\n",
    "   \n",
    "    # set svc \n",
    "    svm = SVC(C = 1e9, gamma = 1e-07).fit(X_train, y_train)\n",
    "    y_scores = svm.decision_function(X_test)\n",
    "    \n",
    "    #Set threshold = -220\n",
    "    y_score = np.where(y_scores > -220, 1, 0)\n",
    "    conf_matrix = confusion_matrix(y_test, y_score)\n",
    "    \n",
    "    print(conf_matrix)\n",
    "    return conf_matrix\n",
    "\n",
    "parametrized_svc_classifier()"
   ]
  },
  {
   "cell_type": "markdown",
   "metadata": {
    "deletable": false,
    "nbgrader": {
     "cell_type": "markdown",
     "checksum": "e95ea69114979ea0f84107954ec347d3",
     "grade": false,
     "grade_id": "cell-70bf75a83d786ad3",
     "locked": true,
     "schema_version": 3,
     "solution": false,
     "task": false
    },
    "tags": []
   },
   "source": [
    "### Training a logisitic regression classifier and drawing precision-recall curve and roc curve\n"
   ]
  },
  {
   "cell_type": "code",
   "execution_count": 13,
   "metadata": {
    "deletable": false,
    "nbgrader": {
     "cell_type": "code",
     "checksum": "a82ea845c3936f4c23c5753d28faccdd",
     "grade": false,
     "grade_id": "cell-4ee963ef1994f461",
     "locked": false,
     "schema_version": 3,
     "solution": true,
     "task": false
    }
   },
   "outputs": [
    {
     "data": {
      "image/png": "[encoded data removed]",
      "text/plain": [
       "<Figure size 432x288 with 1 Axes>"
      ]
     },
     "metadata": {
      "needs_background": "light"
     },
     "output_type": "display_data"
    },
    {
     "name": "stdout",
     "output_type": "stream",
     "text": [
      "Recall = 0.82 when precision = 0.75\n"
     ]
    },
    {
     "data": {
      "image/png": "[encoded data removed]",
      "text/plain": [
       "<Figure size 432x288 with 1 Axes>"
      ]
     },
     "metadata": {
      "needs_background": "light"
     },
     "output_type": "display_data"
    },
    {
     "name": "stdout",
     "output_type": "stream",
     "text": [
      "True positive rate = 0.94 when false positive rate = 0.16\n"
     ]
    },
    {
     "data": {
      "text/plain": [
       "(0.82, 0.94)"
      ]
     },
     "execution_count": 13,
     "metadata": {},
     "output_type": "execute_result"
    }
   ],
   "source": [
    "def find_closest(arr, val):\n",
    "    idx = np.abs(arr - val).argmin()\n",
    "    return arr[idx], idx\n",
    "\n",
    "def plot_precision_recal_curve(precision, recall, thresholds):\n",
    "    import matplotlib.pyplot as plt\n",
    "    \n",
    "    plt.figure()\n",
    "    plt.xlim([0.0, 1.01])\n",
    "    plt.ylim([0.0, 1.01])\n",
    "    plt.plot(precision, recall, label='Precision-Recall Curve')\n",
    "    #plt.plot(prec, rec, 'o', markersize = 12, fillstyle = 'none', c='r', mew=3)\n",
    "    plt.xlabel('Precision', fontsize=16)\n",
    "    plt.ylabel('Recall', fontsize=16)\n",
    "    #plt.axes().set_aspect('equal')\n",
    "    plt.show()\n",
    "    \n",
    "    prec, rec = find_closest(precision, 0.75)\n",
    "    print('Recall = {:0.2f} when precision = {:0.2f}'.format(recall[rec], prec))\n",
    "    \n",
    "    \n",
    "\n",
    "def plot_roc_curve(fpr_lr, tpr_lr):\n",
    "    from sklearn.metrics import roc_curve, auc\n",
    "    import matplotlib.pyplot as plt\n",
    "    \n",
    "    roc_auc_lr = auc(fpr_lr, tpr_lr)\n",
    "    \n",
    "    plt.figure()\n",
    "    plt.xlim([-0.01, 1.00])\n",
    "    plt.ylim([-0.01, 1.01])\n",
    "    plt.plot(fpr_lr, tpr_lr, lw=3, label='LogRegr ROC curve (area = {:0.2f})'.format(roc_auc_lr))\n",
    "    plt.xlabel('False Positive Rate', fontsize=16)\n",
    "    plt.ylabel('True Positive Rate', fontsize=16)\n",
    "    plt.title('ROC curve (1-of-10 digits classifier)', fontsize=16)\n",
    "    plt.legend(loc='lower right', fontsize=13)\n",
    "    plt.plot([0, 1], [0, 1], color='navy', lw=3, linestyle='--')\n",
    "    #plt.axes().set_aspect('equal')grid\n",
    "    plt.show()\n",
    "    \n",
    "    temp = find_closest(fpr_lr, 0.16)\n",
    "    print('True positive rate = {:0.2f} when false positive rate = {:0.2f}'.format(tpr_lr[temp[1]], temp[0]))\n",
    "    \n",
    "def plotting():\n",
    "    from sklearn.linear_model import LogisticRegression\n",
    "    from sklearn.metrics import precision_recall_curve\n",
    "    from sklearn.metrics import roc_curve, auc\n",
    "    \n",
    "    y_proba_lr = LogisticRegression(solver='liblinear').fit(X_train, y_train).decision_function(X_test)\n",
    "    \n",
    "    # plotting precision_recal_curve\n",
    "    precision, recall, thresholds = precision_recall_curve(y_test, y_proba_lr)\n",
    "    plot_precision_recal_curve(precision, recall, thresholds)\n",
    "    \n",
    "    # roc curve\n",
    "    fpr_lr, tpr_lr, _ = roc_curve(y_test, y_proba_lr)\n",
    "    plot_roc_curve(fpr_lr, tpr_lr)\n",
    "    \n",
    "    return (0.82, 0.94)\n",
    "\n",
    "    \n",
    "plotting()"
   ]
  },
  {
   "cell_type": "markdown",
   "metadata": {
    "deletable": false,
    "nbgrader": {
     "cell_type": "markdown",
     "checksum": "07e877eccc933ca264ba74e2c75177a0",
     "grade": false,
     "grade_id": "cell-7e8f17384891743a",
     "locked": true,
     "schema_version": 3,
     "solution": false,
     "task": false
    },
    "tags": []
   },
   "source": [
    "### grid search over `'penalty': ['l1', 'l2']` and `'C':[0.01, 0.1, 1, 10]` using recall for scoring and the default 3-fold cross validation\n"
   ]
  },
  {
   "cell_type": "code",
   "execution_count": 15,
   "metadata": {},
   "outputs": [
    {
     "name": "stdout",
     "output_type": "stream",
     "text": [
      "Collecting tabulate\n",
      "  Downloading tabulate-0.9.0-py3-none-any.whl (35 kB)\n",
      "Installing collected packages: tabulate\n",
      "Successfully installed tabulate-0.9.0\n",
      "Note: you may need to restart the kernel to use updated packages.\n"
     ]
    }
   ],
   "source": [
    "pip install tabulate"
   ]
  },
  {
   "cell_type": "code",
   "execution_count": 18,
   "metadata": {
    "deletable": false,
    "nbgrader": {
     "cell_type": "code",
     "checksum": "d455f68bbc10f87eed55511dfb3e0b81",
     "grade": false,
     "grade_id": "cell-970bb71bdd1a3c35",
     "locked": false,
     "schema_version": 3,
     "solution": true,
     "task": false
    }
   },
   "outputs": [
    {
     "name": "stdout",
     "output_type": "stream",
     "text": [
      "    C        l1        l2\n",
      "-----  --------  --------\n",
      " 0.01  0.71072   0.76964\n",
      " 0.1   0.792097  0.800548\n",
      " 1     0.800548  0.800548\n",
      "10     0.794953  0.79777\n"
     ]
    }
   ],
   "source": [
    "def grid_search():    \n",
    "    from sklearn.model_selection import GridSearchCV\n",
    "    from sklearn.linear_model import LogisticRegression\n",
    "    from sklearn.metrics import recall_score\n",
    "    import sklearn.metrics\n",
    "    from tabulate import tabulate\n",
    "    \n",
    "    #y_proba_lr = LogisticRegression(solver='liblinear').fit(X_train, y_train).decision_function(X_test)\n",
    "    grid_values = {'penalty': ['l1', 'l2'], 'C':[0.01, 0.1, 1, 10]}\n",
    "    # metric to optimize over grid parameters: recall\n",
    "    grid_clf_rec = GridSearchCV(LogisticRegression(solver='liblinear'), param_grid = grid_values, scoring = 'recall')\n",
    "    grid_clf_rec.fit(X, y)\n",
    "    y_decision_fn_scores_rec = grid_clf_rec.decision_function(X_test)\n",
    "\n",
    "    mean_test_scores = grid_clf_rec.cv_results_['mean_test_score']\n",
    "    mean_test_scores = mean_test_scores.reshape(4, 2)\n",
    "    \n",
    "    data = [[\"0.01\", mean_test_scores[0][0], mean_test_scores[0][1]], \n",
    "            [\"0.1\", mean_test_scores[1][0], mean_test_scores[1][1]], \n",
    "            [\"1\", mean_test_scores[2][0], mean_test_scores[2][1]], \n",
    "            [\"10\", mean_test_scores[3][0], mean_test_scores[3][1]]]\n",
    "    \n",
    "    \n",
    "    col_names = [\"C\", \"l1\", 'l2']\n",
    "    \n",
    "    print(tabulate(data, headers=col_names))\n",
    "\n",
    "\n",
    "grid_search()"
   ]
  }
 ],
 "metadata": {
  "kernelspec": {
   "display_name": "Python 3",
   "language": "python",
   "name": "python3"
  },
  "language_info": {
   "codemirror_mode": {
    "name": "ipython",
    "version": 3
   },
   "file_extension": ".py",
   "mimetype": "text/x-python",
   "name": "python",
   "nbconvert_exporter": "python",
   "pygments_lexer": "ipython3",
   "version": "3.8.8"
  }
 },
 "nbformat": 4,
 "nbformat_minor": 4
}
