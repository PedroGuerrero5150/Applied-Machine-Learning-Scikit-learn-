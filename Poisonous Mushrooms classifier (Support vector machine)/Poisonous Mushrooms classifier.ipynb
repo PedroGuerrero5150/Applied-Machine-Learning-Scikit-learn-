{
 "cells": [
  {
   "cell_type": "markdown",
   "id": "752ec2cf-f722-42dc-b9a5-8f87e39dc76c",
   "metadata": {},
   "source": [
    "## Data set: [UCI Mushroom Data Set](http://archive.ics.uci.edu/ml/datasets/Mushroom?ref=datanews.io) <br>\n",
    "## Goal: trian a model to predict whether or not a mushroom is poisonous\n",
    "\n",
    "*Attribute Information:*\n",
    "\n",
    "1. cap-shape: bell=b, conical=c, convex=x, flat=f, knobbed=k, sunken=s \n",
    "2. cap-surface: fibrous=f, grooves=g, scaly=y, smooth=s \n",
    "3. cap-color: brown=n, buff=b, cinnamon=c, gray=g, green=r, pink=p, purple=u, red=e, white=w, yellow=y \n",
    "4. bruises?: bruises=t, no=f \n",
    "5. odor: almond=a, anise=l, creosote=c, fishy=y, foul=f, musty=m, none=n, pungent=p, spicy=s \n",
    "6. gill-attachment: attached=a, descending=d, free=f, notched=n \n",
    "7. gill-spacing: close=c, crowded=w, distant=d \n",
    "8. gill-size: broad=b, narrow=n \n",
    "9. gill-color: black=k, brown=n, buff=b, chocolate=h, gray=g, green=r, orange=o, pink=p, purple=u, red=e, white=w, yellow=y \n",
    "10. stalk-shape: enlarging=e, tapering=t \n",
    "11. stalk-root: bulbous=b, club=c, cup=u, equal=e, rhizomorphs=z, rooted=r, missing=? \n",
    "12. stalk-surface-above-ring: fibrous=f, scaly=y, silky=k, smooth=s \n",
    "13. stalk-surface-below-ring: fibrous=f, scaly=y, silky=k, smooth=s \n",
    "14. stalk-color-above-ring: brown=n, buff=b, cinnamon=c, gray=g, orange=o, pink=p, red=e, white=w, yellow=y \n",
    "15. stalk-color-below-ring: brown=n, buff=b, cinnamon=c, gray=g, orange=o, pink=p, red=e, white=w, yellow=y \n",
    "16. veil-type: partial=p, universal=u \n",
    "17. veil-color: brown=n, orange=o, white=w, yellow=y \n",
    "18. ring-number: none=n, one=o, two=t \n",
    "19. ring-type: cobwebby=c, evanescent=e, flaring=f, large=l, none=n, pendant=p, sheathing=s, zone=z \n",
    "20. spore-print-color: black=k, brown=n, buff=b, chocolate=h, green=r, orange=o, purple=u, white=w, yellow=y \n",
    "21. population: abundant=a, clustered=c, numerous=n, scattered=s, several=v, solitary=y \n",
    "22. habitat: grasses=g, leaves=l, meadows=m, paths=p, urban=u, waste=w, woods=d\n",
    "\n",
    "<br>"
   ]
  },
  {
   "cell_type": "markdown",
   "id": "81eb33d3-c07d-4ecc-a20f-224fe7832dfc",
   "metadata": {},
   "source": [
    "# reading data set"
   ]
  },
  {
   "cell_type": "code",
   "execution_count": 2,
   "id": "929d41cb-1b1f-4317-a082-3121b70ad447",
   "metadata": {},
   "outputs": [],
   "source": [
    "import pandas as pd\n",
    "import numpy as np\n",
    "from sklearn.model_selection import train_test_split\n",
    "\n",
    "\n",
    "mush_df = pd.read_csv('assets/mushrooms.csv')\n",
    "mush_df2 = pd.get_dummies(mush_df)\n",
    "\n",
    "X_mush = mush_df2.iloc[:,2:]\n",
    "y_mush = mush_df2.iloc[:,1]\n",
    "\n",
    "\n",
    "X_train2, X_test2, y_train2, y_test2 = train_test_split(X_mush, y_mush, random_state=0)"
   ]
  },
  {
   "cell_type": "markdown",
   "id": "13e2880a-9db6-484c-9a23-9e7524a3d7e6",
   "metadata": {},
   "source": [
    "# training a DecisionTreeClassifier to find 5 most important features"
   ]
  },
  {
   "cell_type": "code",
   "execution_count": 4,
   "id": "d0180885-2858-416b-8547-755168af906a",
   "metadata": {},
   "outputs": [
    {
     "name": "stdout",
     "output_type": "stream",
     "text": [
      "['odor_n', 'stalk-root_c', 'stalk-root_r', 'spore-print-color_r', 'odor_l']\n"
     ]
    }
   ],
   "source": [
    "from sklearn.tree import DecisionTreeClassifier\n",
    "    \n",
    "clf = DecisionTreeClassifier(random_state=0).fit(X_train2, y_train2)\n",
    "important_features = []\n",
    "for importance, name in sorted(zip(clf.feature_importances_, X_train2.columns),reverse=True)[:5]:\n",
    "    important_features.append(name)\n",
    "\n",
    "print(important_features)"
   ]
  },
  {
   "cell_type": "markdown",
   "id": "045fcc84-5b03-438a-ac43-408bb7067564",
   "metadata": {},
   "source": [
    "# Using the validation_curve function in sklearn.model_selection to determine training and test scores for a Support Vector Classifier \n",
    "exploring the effect of gamma on classifier accuracy"
   ]
  },
  {
   "cell_type": "code",
   "execution_count": 10,
   "id": "b2abbe2e-401b-4c0c-978a-2910700c71b9",
   "metadata": {},
   "outputs": [
    {
     "name": "stdout",
     "output_type": "stream",
     "text": [
      "mean accuracy for gamma = 0.0001: 0.8983874938453965 (train set)\n",
      "mean accuracy for gamma = 0.0001: 0.8874938453963566 (test set)\n",
      "---------------------------------------------------\n",
      "mean accuracy for gamma = 0.001: 0.9810438207779418 (train set)\n",
      "mean accuracy for gamma = 0.001: 0.8295174790743477 (test set)\n",
      "---------------------------------------------------\n",
      "mean accuracy for gamma = 0.01: 0.9989537173806008 (train set)\n",
      "mean accuracy for gamma = 0.01: 0.8417035942885279 (test set)\n",
      "---------------------------------------------------\n",
      "mean accuracy for gamma = 0.1: 1.0 (train set)\n",
      "mean accuracy for gamma = 0.1: 0.8658296405711473 (test set)\n",
      "---------------------------------------------------\n",
      "mean accuracy for gamma = 1.0: 1.0 (train set)\n",
      "mean accuracy for gamma = 1.0: 0.836164451009355 (test set)\n",
      "---------------------------------------------------\n",
      "mean accuracy for gamma = 10.0: 1.0 (train set)\n",
      "mean accuracy for gamma = 10.0: 0.517971442639094 (test set)\n",
      "---------------------------------------------------\n"
     ]
    }
   ],
   "source": [
    "from sklearn.svm import SVC\n",
    "from sklearn.model_selection import validation_curve\n",
    "\n",
    "clf = SVC(kernel='rbf', C=1, random_state=0)\n",
    "param_range = np.logspace(-4,1,6)\n",
    "train_scores, test_scores = validation_curve(clf, X_mush, y_mush, param_name='gamma', param_range=param_range, cv=3, n_jobs=2)\n",
    "\n",
    "train_scores = np.mean(train_scores, axis=1)\n",
    "test_scores = np.mean(test_scores, axis=1)\n",
    "\n",
    "i = 0\n",
    "for gamma in np.logspace(-4,1,6):\n",
    "    print('mean accuracy for gamma = {}: {} (train set)'.format(gamma, train_scores[i]))\n",
    "    print('mean accuracy for gamma = {}: {} (test set)'.format(gamma, test_scores[i]))\n",
    "    print('-------------------------------------------------')\n",
    "    i +=1\n",
    "        "
   ]
  },
  {
   "cell_type": "markdown",
   "id": "4ec9977c-461d-4a74-a9f8-a3afd586223d",
   "metadata": {},
   "source": [
    "### Based on the previous answer:<br>\n",
    "### Model underfitting: gamma = 0.0001 <br>\n",
    "### Model overfitting: gamma =  0.001 <br>\n",
    "### Good generalization model: gamma = 0.1 <br>"
   ]
  },
  {
   "cell_type": "code",
   "execution_count": null,
   "id": "54ddfc19-8da4-4171-a8f7-b0af53523b52",
   "metadata": {},
   "outputs": [],
   "source": []
  }
 ],
 "metadata": {
  "kernelspec": {
   "display_name": "Python 3",
   "language": "python",
   "name": "python3"
  },
  "language_info": {
   "codemirror_mode": {
    "name": "ipython",
    "version": 3
   },
   "file_extension": ".py",
   "mimetype": "text/x-python",
   "name": "python",
   "nbconvert_exporter": "python",
   "pygments_lexer": "ipython3",
   "version": "3.8.8"
  }
 },
 "nbformat": 4,
 "nbformat_minor": 5
}
